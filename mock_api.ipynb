{
 "cells": [
  {
   "cell_type": "code",
   "execution_count": 2,
   "metadata": {},
   "outputs": [],
   "source": [
    "import pandas as pd\n",
    "from fuzzywuzzy import process\n",
    "PRODUCT_PATH = \"./Data/Product_Information_Dataset.csv\"\n",
    "df_product = pd.read_csv(PRODUCT_PATH)"
   ]
  },
  {
   "cell_type": "code",
   "execution_count": 10,
   "metadata": {},
   "outputs": [],
   "source": [
    "def fuzzy_search(df, query, column, limit=10):\n",
    "    # Extract the column values as a list\n",
    "    choices = df[column].tolist()\n",
    "\n",
    "    # Perform fuzzy matching\n",
    "    results = process.extract(query, choices, limit=limit)\n",
    "\n",
    "    # Extract the matched rows from the DataFrame\n",
    "    matched_indices = [choices.index(result[0]) for result in results]\n",
    "    matched_df = df.iloc[matched_indices].copy()\n",
    "\n",
    "    # Add the score to the matched DataFrame\n",
    "    matched_df[\"score\"] = [result[1] for result in results]\n",
    "\n",
    "    return matched_df\n",
    "\n",
    "\n",
    "def search_products(\n",
    "    query: str,\n",
    "    sort_column: str = \"average_rating\",\n",
    "    sort_order: str = \"desc\",\n",
    "    limit: int = 5,\n",
    "):\n",
    "    # Perform fuzzy search on multiple columns\n",
    "    columns_to_search = [\n",
    "        \"title\",\n",
    "        \"description\",\n",
    "        \"main_category\",\n",
    "        # \"features\",\n",
    "        # \"categories\",\n",
    "        # \"details\",\n",
    "    ]\n",
    "    combined_matches = pd.DataFrame()\n",
    "\n",
    "    for column in columns_to_search:\n",
    "        matches = fuzzy_search(\n",
    "            df_product, query, column, limit=1000000000\n",
    "        )  # a large number to get all matches\n",
    "        combined_matches = pd.concat([combined_matches, matches]).drop_duplicates()\n",
    "    \n",
    "    # Sort the combined matches by score in descending order\n",
    "    combined_matches = combined_matches.sort_values(by=\"score\", ascending=False)\n",
    "    \n",
    "    # Limit the results\n",
    "    combined_matches = combined_matches.head(limit)\n",
    "\n",
    "    # Sort the combined matches based on the specified column and order\n",
    "    top_results = combined_matches.sort_values(by=sort_column, ascending=(sort_order == \"asc\"))\n",
    "    # Fill NaN values to avoid JSON serialization issues\n",
    "    top_results = top_results.fillna(\"\")\n",
    "\n",
    "    return top_results.to_dict(orient=\"records\")"
   ]
  },
  {
   "cell_type": "code",
   "execution_count": 11,
   "metadata": {},
   "outputs": [],
   "source": [
    "query = \"BOYA BYM1\" # BOYA BYM1 Microphone doesn't find it\n",
    "sort_column = \"price\"\n",
    "sort_order = \"asc\"\n",
    "limit = 10\n",
    "\n",
    "results = search_products(query, sort_column, sort_order, limit)\n",
    "# Save results to a CSV file\n",
    "results_df = pd.DataFrame(results)\n",
    "results_df.to_csv('search_results.csv', index=False)"
   ]
  },
  {
   "cell_type": "code",
   "execution_count": 67,
   "metadata": {},
   "outputs": [
    {
     "name": "stdout",
     "output_type": "stream",
     "text": [
      "[('cat', 90), ('dog', 36), ('fish', 22), ('horse', 0)]\n"
     ]
    }
   ],
   "source": [
    "choices = ['horse', 'dog', 'fish', 'cat']\n",
    "query = 'catdf'\n",
    "results = process.extract(query, choices, limit=5)\n",
    "print(results)"
   ]
  }
 ],
 "metadata": {
  "kernelspec": {
   "display_name": ".venv",
   "language": "python",
   "name": "python3"
  },
  "language_info": {
   "codemirror_mode": {
    "name": "ipython",
    "version": 3
   },
   "file_extension": ".py",
   "mimetype": "text/x-python",
   "name": "python",
   "nbconvert_exporter": "python",
   "pygments_lexer": "ipython3",
   "version": "3.12.4"
  }
 },
 "nbformat": 4,
 "nbformat_minor": 2
}
