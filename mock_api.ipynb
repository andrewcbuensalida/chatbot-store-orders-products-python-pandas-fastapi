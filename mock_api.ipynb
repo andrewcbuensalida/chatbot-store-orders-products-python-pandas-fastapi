{
 "cells": [
  {
   "cell_type": "code",
   "execution_count": 2,
   "metadata": {},
   "outputs": [],
   "source": [
    "import pandas as pd\n",
    "from fuzzywuzzy import process\n",
    "PRODUCT_PATH = \"./Data/Product_Information_Dataset.csv\"\n",
    "df_product = pd.read_csv(PRODUCT_PATH)"
   ]
  },
  {
   "cell_type": "code",
   "execution_count": 75,
   "metadata": {},
   "outputs": [],
   "source": [
    "def fuzzy_search(df, query, column, limit=10):\n",
    "    # Extract the column values as a list\n",
    "    choices = df[column].tolist()\n",
    "\n",
    "    # Perform fuzzy matching\n",
    "    results = process.extract(query, choices, limit=limit)\n",
    "\n",
    "    # Extract the matched rows from the DataFrame\n",
    "    matched_indices = [choices.index(result[0]) for result in results]\n",
    "    matched_df = df.iloc[matched_indices].copy()\n",
    "\n",
    "    # Add the score to the matched DataFrame\n",
    "    matched_df[\"score\"] = [result[1] for result in results]\n",
    "\n",
    "    return matched_df\n",
    "\n",
    "\n",
    "def search_products(\n",
    "    query: str,\n",
    "    sort_column: str = \"average_rating\",\n",
    "    sort_order: str = \"desc\",\n",
    "    limit: int = 5,\n",
    "):\n",
    "    # Perform fuzzy search on multiple columns\n",
    "    columns_to_search = [\n",
    "        \"title\",\n",
    "        \"description\",\n",
    "        # \"main_category\",\n",
    "        # \"features\",\n",
    "        # \"categories\",\n",
    "        # \"details\",\n",
    "    ]\n",
    "    combined_matches = pd.DataFrame()\n",
    "\n",
    "    for column in columns_to_search:\n",
    "        matches = fuzzy_search(\n",
    "            df_product, query, column, limit=100000000\n",
    "        )  # a large number to get all matches\n",
    "        # keep the highest score if there are duplicates, because fuzzy searching on one column can have a different score than another column\n",
    "        combined_matches = pd.concat([combined_matches, matches]).sort_values(by='score',ascending=False).drop_duplicates(subset=['title'], keep='first')\n",
    "    \n",
    "    # Limit the results\n",
    "    combined_matches = combined_matches.head(limit)\n",
    "\n",
    "    # Sort the combined matches based on the specified column and order\n",
    "    top_results = combined_matches.sort_values(by=sort_column, ascending=(sort_order == \"asc\"))\n",
    "    # Fill NaN values to avoid JSON serialization issues\n",
    "    top_results = top_results.fillna(\"\")\n",
    "\n",
    "    return top_results.to_dict(orient=\"records\")"
   ]
  },
  {
   "cell_type": "code",
   "execution_count": 76,
   "metadata": {},
   "outputs": [],
   "source": [
    "query = \"BOYA BYM1 \" # TODO BOYA BYM1 Microphone doesn't find it. Has to be keyword search\n",
    "sort_column = \"average_rating\"\n",
    "sort_order = \"desc\"\n",
    "limit = 10\n",
    "\n",
    "results = search_products(query, sort_column, sort_order, limit)\n",
    "# Save results to a CSV file\n",
    "results_df = pd.DataFrame(results)\n",
    "results_df.to_csv('search_results.csv', index=False)"
   ]
  },
  {
   "cell_type": "code",
   "execution_count": 67,
   "metadata": {},
   "outputs": [
    {
     "name": "stdout",
     "output_type": "stream",
     "text": [
      "[('cat', 90), ('dog', 36), ('fish', 22), ('horse', 0)]\n"
     ]
    }
   ],
   "source": [
    "choices = ['horse', 'dog', 'fish', 'cat']\n",
    "query = 'catdf'\n",
    "results = process.extract(query, choices, limit=5)\n",
    "print(results)"
   ]
  }
 ],
 "metadata": {
  "kernelspec": {
   "display_name": ".venv",
   "language": "python",
   "name": "python3"
  },
  "language_info": {
   "codemirror_mode": {
    "name": "ipython",
    "version": 3
   },
   "file_extension": ".py",
   "mimetype": "text/x-python",
   "name": "python",
   "nbconvert_exporter": "python",
   "pygments_lexer": "ipython3",
   "version": "3.12.4"
  }
 },
 "nbformat": 4,
 "nbformat_minor": 2
}
